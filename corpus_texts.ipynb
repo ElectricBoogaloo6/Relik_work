{
 "cells": [
  {
   "cell_type": "code",
   "execution_count": 17,
   "metadata": {},
   "outputs": [],
   "source": [
    "import json\n",
    "import pprint\n",
    "import pandas as pd\n",
    "from pathlib import Path"
   ]
  },
  {
   "cell_type": "code",
   "execution_count": 20,
   "metadata": {},
   "outputs": [
    {
     "name": "stderr",
     "output_type": "stream",
     "text": [
      "C:\\Users\\kmv250\\AppData\\Local\\Temp\\ipykernel_19668\\708729657.py:3: FutureWarning: Series.__getitem__ treating keys as positions is deprecated. In a future version, integer keys will always be treated as labels (consistent with DataFrame behavior). To access a value by position, use `ser.iloc[pos]`\n",
      "  pandas_df.iloc[1][12]\n"
     ]
    },
    {
     "data": {
      "text/plain": [
       "\"A vehicle registration plate is a metal or plastic plate attached to a vehicle for official\\\\nidentification purposes. All countries require registration plates for road vehicles such as cars, trucks,\\\\nand motorcycles. Whether they are required for other vehicles, such as bicycles, boats, or tractors, may vary \\\\nby jurisdiction. The registration identifier is a series of letters and digits that uniquely identifies the vehicle owner within the issuing region's vehicle register. In some countries, the identifier is unique within the entire country, while in others it is unique within a state or province. France was the first country to introduce the registration plate, in the late nineteenth century. Early twentieth century plates varied in size and shape from one jurisdiction to the next, such that if a person moved, new holes would need to be drilled into the automobile to support the new plate. Standardization of plates came in the late fifties, when automobile manufacturers came to an agreement with governments and international organizations.\""
      ]
     },
     "execution_count": 20,
     "metadata": {},
     "output_type": "execute_result"
    }
   ],
   "source": [
    "text_file = \"corpus.csv\"\n",
    "pandas_df = pd.read_csv(text_file, sep=\",\", encoding=\"utf-8\")\n",
    "pandas_df.iloc[1][12]"
   ]
  }
 ],
 "metadata": {
  "kernelspec": {
   "display_name": "base",
   "language": "python",
   "name": "python3"
  },
  "language_info": {
   "codemirror_mode": {
    "name": "ipython",
    "version": 3
   },
   "file_extension": ".py",
   "mimetype": "text/x-python",
   "name": "python",
   "nbconvert_exporter": "python",
   "pygments_lexer": "ipython3",
   "version": "3.12.7"
  }
 },
 "nbformat": 4,
 "nbformat_minor": 2
}
